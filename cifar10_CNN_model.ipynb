{
 "cells": [
  {
   "cell_type": "markdown",
   "metadata": {},
   "source": [
    "# CNN model"
   ]
  },
  {
   "cell_type": "code",
   "execution_count": 19,
   "metadata": {},
   "outputs": [],
   "source": [
    "# Imports\n",
    "\n",
    "import numpy as np\n",
    "import tensorflow as tf\n",
    "import matplotlib.pyplot as plt\n",
    "\n",
    "from tensorflow.keras.datasets import cifar10\n",
    "from tensorflow.keras.models import Sequential, load_model\n",
    "from tensorflow.keras.layers import Conv2D, MaxPooling2D, Flatten, Dense, Dropout, BatchNormalization\n",
    "from tensorflow.keras.callbacks import EarlyStopping, ReduceLROnPlateau\n",
    "from tensorflow.keras.preprocessing.image import ImageDataGenerator\n",
    "from tensorflow.keras.optimizers import Adam\n",
    "\n",
    "from sklearn.model_selection import train_test_split\n",
    "\n",
    "# Local test setup\n",
    "tf.config.threading.set_inter_op_parallelism_threads(6) # 8\n",
    "tf.config.threading.set_intra_op_parallelism_threads(20) # 24"
   ]
  },
  {
   "cell_type": "markdown",
   "metadata": {},
   "source": [
    "### 1. Data Preprocessing"
   ]
  },
  {
   "cell_type": "code",
   "execution_count": null,
   "metadata": {},
   "outputs": [],
   "source": [
    "# Loading CIFAR-10 dataset\n",
    "\n",
    "(x_train, y_train), (x_test, y_test) = cifar10.load_data()\n",
    "\n",
    "print('Training set shape:', x_train.shape)\n",
    "print('Testing set shape:', x_test.shape)\n",
    "\n",
    "print('Training labels shape:', y_train.shape)\n",
    "print('Testing labels shape:', y_test.shape)\n",
    "\n",
    "labels = ['airplane', 'automobile', 'bird', 'cat', 'deer', 'dog', 'frog', 'horse', 'ship', 'truck']\n",
    "\n",
    "print(labels)"
   ]
  },
  {
   "cell_type": "code",
   "execution_count": null,
   "metadata": {},
   "outputs": [],
   "source": [
    "# Visualizing some images\n",
    "\n",
    "plt.figure(figsize = (8, 8))\n",
    "\n",
    "for i in range(25):\n",
    "    plt.subplot(5, 5, i + 1)\n",
    "    plt.xticks([])\n",
    "    plt.yticks([])\n",
    "    plt.imshow(x_train[i])\n",
    "    plt.xlabel(labels[y_train[i][0]])\n",
    "\n",
    "plt.show()"
   ]
  },
  {
   "cell_type": "code",
   "execution_count": 22,
   "metadata": {},
   "outputs": [],
   "source": [
    "# One-hot encoding the labels\n",
    "\n",
    "y_train = tf.keras.utils.to_categorical(y_train, num_classes = 10)\n",
    "y_test = tf.keras.utils.to_categorical(y_test, num_classes = 10)"
   ]
  },
  {
   "cell_type": "code",
   "execution_count": null,
   "metadata": {},
   "outputs": [],
   "source": [
    "# Normalizing the Images\n",
    "\n",
    "x_train = x_train / 255\n",
    "x_test = x_test / 255\n",
    "\n",
    "print(x_train[0].min())\n",
    "print(x_train[0].max())"
   ]
  },
  {
   "cell_type": "code",
   "execution_count": null,
   "metadata": {},
   "outputs": [],
   "source": [
    "# Resizing images\n",
    "\n",
    "x_train = tf.image.resize(x_train, (64, 64))\n",
    "x_test = tf.image.resize(x_test, (64, 64))\n",
    "\n",
    "print('Resized training image size:', x_train[0].shape)\n",
    "print('Resized testing image size:', x_test[0].shape)"
   ]
  },
  {
   "cell_type": "code",
   "execution_count": 25,
   "metadata": {},
   "outputs": [],
   "source": [
    "# Creating validation set\n",
    "\n",
    "x_train = np.array(x_train)\n",
    "y_train = np.array(y_train)\n",
    "\n",
    "x_train, x_val, y_train, y_val = train_test_split(x_train, y_train, test_size = 0.1, random_state = 42)\n",
    "\n",
    "# Augmenting data\n",
    "\n",
    "augment = ImageDataGenerator(\n",
    "    horizontal_flip = True,\n",
    "    width_shift_range = 0.1,\n",
    "    height_shift_range = 0.1,\n",
    "    # rotation_range = 10,      # Most images in the dataset have a natural, upright orientation.\n",
    "    zoom_range = 0.1)\n",
    "\n",
    "augment.fit(x_train)"
   ]
  },
  {
   "cell_type": "markdown",
   "metadata": {},
   "source": [
    "### 2. Model Architecture"
   ]
  },
  {
   "cell_type": "code",
   "execution_count": null,
   "metadata": {},
   "outputs": [],
   "source": [
    "# Defining the model\n",
    "\n",
    "model = Sequential()\n",
    "\n",
    "model.add(Conv2D(64, (3, 3), activation = 'relu', kernel_initializer = 'he_uniform', input_shape = (64, 64, 3)))\n",
    "model.add(BatchNormalization())\n",
    "model.add(Conv2D(64, (3, 3), activation = 'relu', kernel_initializer = 'he_uniform'))\n",
    "model.add(BatchNormalization())\n",
    "model.add(Conv2D(64, (3, 3), activation = 'relu', kernel_initializer = 'he_uniform'))\n",
    "model.add(BatchNormalization())\n",
    "model.add(MaxPooling2D((2, 2)))\n",
    "\n",
    "model.add(Conv2D(128, (3, 3), activation = 'relu', kernel_initializer = 'he_uniform'))\n",
    "model.add(BatchNormalization())\n",
    "model.add(Conv2D(128, (3, 3), activation = 'relu', kernel_initializer = 'he_uniform'))\n",
    "model.add(BatchNormalization())\n",
    "model.add(Conv2D(128, (3, 3), activation = 'relu', kernel_initializer = 'he_uniform'))\n",
    "model.add(BatchNormalization())\n",
    "model.add(MaxPooling2D((2, 2)))\n",
    "\n",
    "model.add(Conv2D(256, (3, 3), activation = 'relu', kernel_initializer = 'he_uniform'))\n",
    "model.add(BatchNormalization())\n",
    "model.add(Conv2D(256, (3, 3), activation = 'relu', kernel_initializer = 'he_uniform'))\n",
    "model.add(BatchNormalization())\n",
    "model.add(Conv2D(256, (3, 3), activation = 'relu', kernel_initializer = 'he_uniform'))\n",
    "model.add(BatchNormalization())\n",
    "model.add(MaxPooling2D((2, 2)))\n",
    "\n",
    "model.add(Flatten())\n",
    "\n",
    "model.add(Dense(256, activation = 'relu', kernel_initializer = 'he_uniform'))\n",
    "model.add(Dropout(0.3))\n",
    "\n",
    "model.add(Dense(128, activation = 'relu', kernel_initializer = 'he_uniform'))\n",
    "model.add(Dropout(0.3))\n",
    "\n",
    "model.add(Dense(10, activation = 'softmax'))\n",
    "\n",
    "# Model summary\n",
    "\n",
    "model.summary()"
   ]
  },
  {
   "cell_type": "markdown",
   "metadata": {},
   "source": [
    "### 3. Model Training"
   ]
  },
  {
   "cell_type": "code",
   "execution_count": null,
   "metadata": {},
   "outputs": [],
   "source": [
    "# Compiling the model\n",
    "\n",
    "model.compile(loss = 'categorical_crossentropy', optimizer = Adam(learning_rate = 0.001), metrics = ['accuracy'])\n",
    "\n",
    "# Early stopping / Learning rate scheduler\n",
    "\n",
    "stopping = EarlyStopping(monitor = 'val_loss', patience = 10, restore_best_weights = True)\n",
    "scheduler = ReduceLROnPlateau(monitor = 'val_loss', factor = 0.5, patience = 3, min_lr = 1e-6)\n",
    "\n",
    "# Training the model (done in Colab)\n",
    "\n",
    "model = load_model('models/cnn_model_0_88.keras')\n",
    "\n",
    "# model.fit(augment.flow(x_train, y_train, batch_size = 256), epochs = 50, validation_data = (x_val, y_val), callbacks = [scheduler, stopping])\n",
    "\n",
    "# Evaluating the model on the test data\n",
    "\n",
    "test_loss, test_accuracy = model.evaluate(x_test, y_test)\n",
    "\n",
    "print('Test data loss:', test_loss)\n",
    "print('Test data accuracy:', test_accuracy)"
   ]
  }
 ],
 "metadata": {
  "kernelspec": {
   "display_name": "Python 3",
   "language": "python",
   "name": "python3"
  },
  "language_info": {
   "codemirror_mode": {
    "name": "ipython",
    "version": 3
   },
   "file_extension": ".py",
   "mimetype": "text/x-python",
   "name": "python",
   "nbconvert_exporter": "python",
   "pygments_lexer": "ipython3",
   "version": "3.12.6"
  }
 },
 "nbformat": 4,
 "nbformat_minor": 2
}
